{
 "cells": [
  {
   "cell_type": "markdown",
   "metadata": {},
   "source": [
    "# 633. Sum of Square Numbers\n",
    "\n",
    "Given a non-negative integer `c`, decide whether there're two integers `a` and `b` such that $a^2 + b^2 = c$.\n",
    "\n",
    "## Example 1:  \n",
    "\n",
    "Input: `c = 5`  \n",
    "Output: `true`  \n",
    "Explanation: `1 * 1 + 2 * 2 = 5`  \n",
    "\n",
    "## Example 2:  \n",
    "\n",
    "Input: `c = 3`  \n",
    "Output: `false`  \n",
    "\n",
    "## Constraints:\n",
    "\n",
    "$0 <= c <= 2^{31} - 1$  "
   ]
  },
  {
   "cell_type": "markdown",
   "metadata": {},
   "source": [
    "## Attempt 2  \n",
    "\n",
    "Decrease and conquer approach:  \n",
    "1. Iterate through possible values of $a$, stopping when $a^2 > c$  \n",
    "2. Find $b^2 \\text{ where } b^2 = c - a^2$  \n",
    "3. Find $b = \\sqrt{b^2}$ and return `True` if also an `int`  "
   ]
  },
  {
   "cell_type": "code",
   "execution_count": 11,
   "metadata": {},
   "outputs": [],
   "source": [
    "class Solution:\n",
    "  def judgeSquareSum(self, c: int) -> bool:\n",
    "    # iterate for \"a\"\n",
    "    for a in range(0, c + 1, 1):\n",
    "      sqA = a ** 2\n",
    "\n",
    "      # guard to stop the loop when a^2 > c \n",
    "      if sqA > c:\n",
    "        break\n",
    "\n",
    "      # b^2 = c - a^2\n",
    "      sqB = (c - sqA)\n",
    "\n",
    "      # find sqrt(b) and return True if is also an integer\n",
    "      b = sqB ** (0.5)\n",
    "      if b.is_integer():\n",
    "        return True\n",
    "\n",
    "    return False\n",
    "\n",
    "# init\n",
    "sol = Solution()"
   ]
  },
  {
   "cell_type": "code",
   "execution_count": 14,
   "metadata": {},
   "outputs": [
    {
     "data": {
      "text/plain": [
       "False"
      ]
     },
     "execution_count": 14,
     "metadata": {},
     "output_type": "execute_result"
    }
   ],
   "source": [
    "# c = 0\n",
    "# c = 2\n",
    "# c = 3\n",
    "# c = 5\n",
    "# c = 7080870\n",
    "# c = 27812633\n",
    "c = 2^31 - 1\n",
    "sol.judgeSquareSum(c)"
   ]
  }
 ],
 "metadata": {
  "kernelspec": {
   "display_name": "Python 3.8.9 64-bit",
   "language": "python",
   "name": "python3"
  },
  "language_info": {
   "codemirror_mode": {
    "name": "ipython",
    "version": 3
   },
   "file_extension": ".py",
   "mimetype": "text/x-python",
   "name": "python",
   "nbconvert_exporter": "python",
   "pygments_lexer": "ipython3",
   "version": "3.8.9"
  },
  "orig_nbformat": 4,
  "vscode": {
   "interpreter": {
    "hash": "31f2aee4e71d21fbe5cf8b01ff0e069b9275f58929596ceb00d14d90e3e16cd6"
   }
  }
 },
 "nbformat": 4,
 "nbformat_minor": 2
}

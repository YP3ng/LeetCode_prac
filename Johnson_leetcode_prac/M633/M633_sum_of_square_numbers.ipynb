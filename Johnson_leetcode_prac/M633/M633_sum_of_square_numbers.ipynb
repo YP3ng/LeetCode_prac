{
 "cells": [
  {
   "cell_type": "markdown",
   "metadata": {},
   "source": [
    "# 633. Sum of Square Numbers\n",
    "\n",
    "Given a non-negative integer `c`, decide whether there're two integers `a` and `b` such that $a^2 + b^2 = c$.\n",
    "\n",
    "## Example 1:  \n",
    "\n",
    "Input: `c = 5`  \n",
    "Output: `true`  \n",
    "Explanation: `1 * 1 + 2 * 2 = 5`  \n",
    "\n",
    "## Example 2:  \n",
    "\n",
    "Input: `c = 3`  \n",
    "Output: `false`  \n",
    "\n",
    "## Constraints:\n",
    "\n",
    "$0 <= c <= 2^{31} - 1$  "
   ]
  },
  {
   "cell_type": "markdown",
   "metadata": {},
   "source": [
    "## Attempt 1 \n",
    "\n",
    "> Too slow!\n",
    "\n",
    "DP to get squared value, then use brute force to get combinations of `a` and `b` "
   ]
  },
  {
   "cell_type": "code",
   "execution_count": 15,
   "metadata": {},
   "outputs": [],
   "source": [
    "class Solution:\n",
    "  def __init__(self):\n",
    "    # index: n, value: n^2\n",
    "    self.squares = []\n",
    "\n",
    "  def getSquared(self, n: int) -> int: \n",
    "    try:\n",
    "      square = self.squares[n]\n",
    "    except IndexError:\n",
    "      # base case n = 0\n",
    "      if n == 0:\n",
    "        square = 0\n",
    "      # base case n = 1\n",
    "      if n == 1:\n",
    "        square = 1\n",
    "      # square of the next number is first difference (d1) \n",
    "      # plus the second difference (d2), where d2 = 2\n",
    "      if n > 1:\n",
    "        d1 = self.squares[n - 1] - self.squares[n - 2]\n",
    "        d2 = 2\n",
    "        square = self.squares[n - 1] + d1 + d2\n",
    "      self.squares.append(square)\n",
    "    finally:\n",
    "      return square\n",
    "\n",
    "  def judgeSquareSum(self, c: int) -> bool:\n",
    "    # build the squares list\n",
    "    i = sqI = 0\n",
    "    while sqI <= c:\n",
    "      sqI = self.getSquared(i)\n",
    "      i += 1\n",
    "\n",
    "    # evaluate by iterating combinations of a and b\n",
    "    max = len(self.squares)\n",
    "    for a in range(0, max):\n",
    "      for b in range(a, max):\n",
    "        sum = self.getSquared(a) + self.getSquared(b)\n",
    "        if sum == c:\n",
    "          print(\"a:\" + str(a) + \" b:\" + str(b))\n",
    "          return True\n",
    "        elif sum > c:\n",
    "          break\n",
    "        else:\n",
    "          b += 1\n",
    "      a += 1\n",
    "    return False\n",
    "\n",
    "# init\n",
    "sol = Solution()"
   ]
  },
  {
   "cell_type": "code",
   "execution_count": 16,
   "metadata": {},
   "outputs": [
    {
     "name": "stdout",
     "output_type": "stream",
     "text": [
      "a:1252 b:5123\n"
     ]
    }
   ],
   "source": [
    "# c = 3\n",
    "# c = 5\n",
    "# c = 7080870\n",
    "c = 27812633\n",
    "sol.judgeSquareSum(c)"
   ]
  }
 ],
 "metadata": {
  "kernelspec": {
   "display_name": "Python 3.9.13 64-bit",
   "language": "python",
   "name": "python3"
  },
  "language_info": {
   "codemirror_mode": {
    "name": "ipython",
    "version": 3
   },
   "file_extension": ".py",
   "mimetype": "text/x-python",
   "name": "python",
   "nbconvert_exporter": "python",
   "pygments_lexer": "ipython3",
   "version": "3.9.13"
  },
  "orig_nbformat": 4,
  "vscode": {
   "interpreter": {
    "hash": "b0fa6594d8f4cbf19f97940f81e996739fb7646882a419484c72d19e05852a7e"
   }
  }
 },
 "nbformat": 4,
 "nbformat_minor": 2
}

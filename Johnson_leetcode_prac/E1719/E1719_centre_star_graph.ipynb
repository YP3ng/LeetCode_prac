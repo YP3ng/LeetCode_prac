{
 "cells": [
  {
   "cell_type": "markdown",
   "metadata": {},
   "source": [
    "# 1791. Find Center of Star Graph [Easy]  \n",
    "\n",
    "There is an undirected **star** graph consisting of `n` nodes labeled from `1 to n`. A star graph is a graph where there is one **center** node and **exactly** `n - 1` edges that connect the center node with every other node.  \n",
    "\n",
    "You are given a 2D integer array `edges` where each `edges[i] = [u[i], v[i]] `indicates that there is an edge between the nodes `u[i]` and `v[i]`. Return the center of the given star graph.  \n",
    "\n",
    "## Example 1:  \n",
    "\n",
    "![Example image](./star_graph.png)  \n",
    "\n",
    "Input: `edges = [[1,2],[2,3],[4,2]]`  \n",
    "Output: `2`  \n",
    "Explanation: As shown in the figure above, node 2 is connected to every other node, so 2 is the center.  \n",
    "\n",
    "## Example 2:  \n",
    "\n",
    "Input: `edges = [[1,2],[5,1],[1,3],[1,4]]`  \n",
    "Output: `1`  \n",
    " \n",
    "## Constraints:  \n",
    "\n",
    "- `3 <= n <= 105`  \n",
    "- `edges.length == n - 1`  \n",
    "- `edges[i].length == 2`  \n",
    "- `1 <= u[i], v[i] <= n`  \n",
    "- `u[i] != v[i]`  \n",
    "-  The given edges represent a valid star graph."
   ]
  },
  {
   "cell_type": "code",
   "execution_count": 1,
   "metadata": {},
   "outputs": [],
   "source": [
    "from typing import List"
   ]
  },
  {
   "cell_type": "code",
   "execution_count": 2,
   "metadata": {},
   "outputs": [],
   "source": [
    "class Solution:\n",
    "  def findCenter(self, edges: List[List[int]]) -> int:\n",
    "    for node in edges[0]:\n",
    "      if node == edges[1][0] or node == edges[1][1]:\n",
    "        return node"
   ]
  },
  {
   "cell_type": "code",
   "execution_count": 3,
   "metadata": {},
   "outputs": [
    {
     "data": {
      "text/plain": [
       "1"
      ]
     },
     "execution_count": 3,
     "metadata": {},
     "output_type": "execute_result"
    }
   ],
   "source": [
    "# edges = [[1,2],[2,3],[4,2]]\n",
    "edges = [[1,2],[5,1],[1,3],[1,4]]\n",
    "\n",
    "sol = Solution()\n",
    "sol.findCenter(edges)"
   ]
  }
 ],
 "metadata": {
  "kernelspec": {
   "display_name": "Python 3.8.9 64-bit",
   "language": "python",
   "name": "python3"
  },
  "language_info": {
   "codemirror_mode": {
    "name": "ipython",
    "version": 3
   },
   "file_extension": ".py",
   "mimetype": "text/x-python",
   "name": "python",
   "nbconvert_exporter": "python",
   "pygments_lexer": "ipython3",
   "version": "3.8.9"
  },
  "orig_nbformat": 4,
  "vscode": {
   "interpreter": {
    "hash": "31f2aee4e71d21fbe5cf8b01ff0e069b9275f58929596ceb00d14d90e3e16cd6"
   }
  }
 },
 "nbformat": 4,
 "nbformat_minor": 2
}

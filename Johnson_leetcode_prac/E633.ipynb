{
 "cells": [
  {
   "cell_type": "markdown",
   "metadata": {},
   "source": [
    "# 633. Sum of Square Numbers\n",
    "\n",
    "Given a non-negative integer `c`, decide whether there're two integers `a` and `b` such that $a^2 + b^2 = c$.\n",
    "\n",
    "## Example 1:  \n",
    "\n",
    "Input: `c = 5`  \n",
    "Output: `true`  \n",
    "Explanation: `1 * 1 + 2 * 2 = 5`  \n",
    "\n",
    "## Example 2:  \n",
    "\n",
    "Input: `c = 3`  \n",
    "Output: `false`  \n",
    "\n",
    "## Constraints:\n",
    "\n",
    "$0 <= c <= 2^{31} - 1$  "
   ]
  },
  {
   "cell_type": "code",
   "execution_count": null,
   "metadata": {},
   "outputs": [],
   "source": [
    "class Solution:\n",
    "    def judgeSquareSum(self, c: int) -> bool:\n",
    "      "
   ]
  }
 ],
 "metadata": {
  "kernelspec": {
   "display_name": "Python 3.8.9 64-bit",
   "language": "python",
   "name": "python3"
  },
  "language_info": {
   "name": "python",
   "version": "3.8.9"
  },
  "orig_nbformat": 4,
  "vscode": {
   "interpreter": {
    "hash": "31f2aee4e71d21fbe5cf8b01ff0e069b9275f58929596ceb00d14d90e3e16cd6"
   }
  }
 },
 "nbformat": 4,
 "nbformat_minor": 2
}
